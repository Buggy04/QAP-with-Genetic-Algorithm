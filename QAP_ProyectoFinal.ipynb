{
  "nbformat": 4,
  "nbformat_minor": 0,
  "metadata": {
    "colab": {
      "name": "QAP_ProyectoFinal.ipynb",
      "provenance": [],
      "collapsed_sections": [],
      "include_colab_link": true
    },
    "kernelspec": {
      "name": "python3",
      "display_name": "Python 3"
    },
    "language_info": {
      "name": "python"
    }
  },
  "cells": [
    {
      "cell_type": "markdown",
      "metadata": {
        "id": "view-in-github",
        "colab_type": "text"
      },
      "source": [
        "<a href=\"https://colab.research.google.com/github/Buggy04/QAP-with-Genetic-Algorithm/blob/main/QAP_ProyectoFinal.ipynb\" target=\"_parent\"><img src=\"https://colab.research.google.com/assets/colab-badge.svg\" alt=\"Open In Colab\"/></a>"
      ]
    },
    {
      "cell_type": "code",
      "source": [
        "!pip install deap"
      ],
      "metadata": {
        "colab": {
          "base_uri": "https://localhost:8080/"
        },
        "id": "iA7T5Gnof-pn",
        "outputId": "74557b83-1f96-4788-acfd-a4861f129d2a"
      },
      "execution_count": null,
      "outputs": [
        {
          "output_type": "stream",
          "name": "stdout",
          "text": [
            "Looking in indexes: https://pypi.org/simple, https://us-python.pkg.dev/colab-wheels/public/simple/\n",
            "Collecting deap\n",
            "  Downloading deap-1.3.1-cp37-cp37m-manylinux_2_5_x86_64.manylinux1_x86_64.manylinux_2_12_x86_64.manylinux2010_x86_64.whl (160 kB)\n",
            "\u001b[K     |████████████████████████████████| 160 kB 5.1 MB/s \n",
            "\u001b[?25hRequirement already satisfied: numpy in /usr/local/lib/python3.7/dist-packages (from deap) (1.21.6)\n",
            "Installing collected packages: deap\n",
            "Successfully installed deap-1.3.1\n"
          ]
        }
      ]
    },
    {
      "cell_type": "code",
      "source": [
        "from deap import base\n",
        "from deap import creator\n",
        "from deap import tools\n",
        "from deap import algorithms"
      ],
      "metadata": {
        "id": "3ORy9DgXf7br"
      },
      "execution_count": null,
      "outputs": []
    },
    {
      "cell_type": "code",
      "source": [
        "import random\n",
        "import array\n",
        "import numpy as np\n",
        "import matplotlib.pyplot as plt\n",
        "import seaborn as sns"
      ],
      "metadata": {
        "id": "uqJL94UggeyS"
      },
      "execution_count": null,
      "outputs": []
    },
    {
      "cell_type": "code",
      "source": [
        "distance=[(0,22,53,53),(22,0,40,62),(53,40,0,55),(53,62,55,0)]\n",
        "flow=[(0,3,0,2),(3,0,0,1),(0,0,0,4),(2,1,4,0)]\n",
        "#distance=[(0,50,50,94,50),(50,0,22,50,36),(50,22,0,44,14),(94,50,44,0,50),(50,36,14,50,0)]\n",
        "#flow=[(0,0,2,0,3),(0,0,0,3,0),(2,0,0,0,0),(0,3,0,0,1),(3,0,0,1,0)]\n",
        "#distance=[(0,40,64,36,22,60),(40,0,41,22,36,72),(64,41,0,28,44,53),(36,22,28,0,20,50),(22,36,44,20,0,41),(60,72,53,50,41,0)]\n",
        "#flow=[(0,1,1,2,0,0),(1,0,0,0,0,2),(1,0,0,0,0,1),(2,0,0,0,3,0),(0,0,0,3,0,0),(0,2,1,0,0,0)]\n",
        "#distance=[(0,35,71,99,71,75,41),(35,0,42,80,65,82,47),(71,42,0,45,49,79,55),(99,80,45,0,36,65,65),(71,65,49,36,0,31,32),(75,82,79,65,31,0,36),(41,47,55,65,32,36,0)]\n",
        "#flow=[(0,2,0,0,0,0,2),(2,0,3,0,0,1,0),(0,3,0,0,0,1,0),(0,0,0,0,3,0,1),(0,0,0,3,0,0,0),(0,1,1,0,0,0,0),(2,0,0,1,0,0,0)]\n",
        "#distance=[(0,32,68,97,75,70,75,40),(32,0,42,80,53,65,82,47),(68,42,0,45,15,49,79,55),(97,80,45,0,30,36,65,65),(75,53,15,30,0,38,69,53),(70,65,49,36,38,0,31,32),(75,82,79,65,69,31,0,36),(40,47,55,65,53,32,36,0)]\n",
        "#flow=[(0,2,4,0,0,0,2,0),(2,0,3,1,0,1,0,0),(4,3,0,0,0,1,0,0),(0,1,0,0,3,0,1,5),(0,0,0,3,0,0,0,0),(0,1,1,0,0,0,0,0),(2,0,0,1,0,0,0,4),(0,0,0,5,0,0,4,0)]\n",
        "#distance=[(0,32,68,97,75,70,75,40,24),(32,0,42,80,53,65,82,47,29),(68,42,0,45,15,49,79,55,50),(97,80,45,0,30,36,65,65,73),(75,53,15,30,0,38,69,53,53),(70,65,49,36,38,0,31,32,46),(75,82,79,65,69,31,0,36,56),(40,47,55,65,53,32,36,0,19),(24,29,50,73,53,46,56,19,0)]\n",
        "#flow=[(0,2,4,0,0,0,2,0,0),(2,0,3,1,0,6,0,0,2),(4,3,0,0,0,3,0,0,0),(0,1,0,0,1,0,1,2,0),(0,0,0,1,0,0,0,0,0),(0,6,3,0,0,0,0,0,2),(2,0,0,1,0,0,0,4,3),(0,0,0,2,0,0,4,0,0),(0,2,0,0,0,2,3,0,0)]\n",
        "\n",
        "len(flow)"
      ],
      "metadata": {
        "id": "9UnEzmnxgg7z",
        "colab": {
          "base_uri": "https://localhost:8080/"
        },
        "outputId": "5f63673d-a683-44da-9330-fc774c874e5b"
      },
      "execution_count": null,
      "outputs": [
        {
          "output_type": "execute_result",
          "data": {
            "text/plain": [
              "4"
            ]
          },
          "metadata": {},
          "execution_count": 6
        }
      ]
    },
    {
      "cell_type": "code",
      "execution_count": null,
      "metadata": {
        "id": "QC9lVTl5fl0G",
        "colab": {
          "base_uri": "https://localhost:8080/",
          "height": 330
        },
        "outputId": "e234466f-aff1-4396-f8b0-93e6b05bb4b7"
      },
      "outputs": [
        {
          "output_type": "stream",
          "name": "stdout",
          "text": [
            "-- Best Ever Individual =  Individual('i', [2, 3, 0, 1])\n",
            "-- Best Ever Fitness =  395.0\n"
          ]
        },
        {
          "output_type": "display_data",
          "data": {
            "text/plain": [
              "<Figure size 432x288 with 1 Axes>"
            ],
            "image/png": "[encoded data removed]"
          },
          "metadata": {
            "needs_background": "light"
          }
        }
      ],
      "source": [
        "# set the random seed for repeatable results\n",
        "RANDOM_SEED = 37\n",
        "random.seed(RANDOM_SEED)\n",
        "\n",
        "# Genetic Algorithm constants:\n",
        "POPULATION_SIZE = 200\n",
        "MAX_GENERATIONS = 50\n",
        "HALL_OF_FAME_SIZE = 1\n",
        "P_CROSSOVER = 0.8  # probability for crossover\n",
        "P_MUTATION = 0.02   # probability for mutating an individual\n",
        "\n",
        "toolbox = base.Toolbox()\n",
        "\n",
        "# define a single objective, minimizing fitness strategy:\n",
        "creator.create(\"FitnessMin\", base.Fitness, weights=(-1.0,))\n",
        "\n",
        "# create the Individual class based on list of integers:\n",
        "creator.create(\"Individual\", array.array, typecode='i', fitness=creator.FitnessMin)\n",
        "\n",
        "# create an operator that generates randomly shuffled indices:\n",
        "toolbox.register(\"randomOrder\", random.sample, range(len(flow)), len(flow))\n",
        "\n",
        "# create the individual creation operator to fill up an Individual instance with shuffled indices:\n",
        "toolbox.register(\"individualCreator\", tools.initIterate, creator.Individual, toolbox.randomOrder)\n",
        "\n",
        "# create the population creation operator to generate a list of individuals:\n",
        "toolbox.register(\"populationCreator\", tools.initRepeat, list, toolbox.individualCreator)\n",
        "\n",
        "\n",
        "# fitness calculation - compute the total distance of the list of cities represented by indices:\n",
        "def GetQAPDistance(individual):\n",
        "  calculo=0\n",
        "  for i in range(len(individual)):\n",
        "    for j in range(i,len(individual)):\n",
        "      F=flow[i][j]\n",
        "      D=distance[individual[i]][individual[j]]\n",
        "      calculo+=F*D\n",
        "  return calculo\n",
        "\n",
        "def QAPDistance(individual):\n",
        "  return GetQAPDistance(individual),\n",
        "\n",
        "toolbox.register(\"evaluate\", QAPDistance)\n",
        "\n",
        "\n",
        "# Genetic operators:\n",
        "toolbox.register(\"select\", tools.selTournament, tournsize=3)\n",
        "toolbox.register(\"mate\", tools.cxOrdered)\n",
        "toolbox.register(\"mutate\", tools.mutShuffleIndexes, indpb=1.0/len(flow))\n",
        "\n",
        "\n",
        "# Genetic Algorithm flow:\n",
        "def main():\n",
        "\n",
        "    # create initial population (generation 0):\n",
        "    population = toolbox.populationCreator(n=POPULATION_SIZE)\n",
        "\n",
        "    # prepare the statistics object:\n",
        "    stats = tools.Statistics(lambda ind: ind.fitness.values)\n",
        "    stats.register(\"min\", np.min)\n",
        "    stats.register(\"avg\", np.mean)\n",
        "\n",
        "    # define the hall-of-fame object:\n",
        "    hof = tools.HallOfFame(HALL_OF_FAME_SIZE)\n",
        "\n",
        "    # perform the Genetic Algorithm flow with hof feature added:\n",
        "    population, logbook = algorithms.eaSimple(population, toolbox, cxpb=P_CROSSOVER, mutpb=P_MUTATION, ngen=MAX_GENERATIONS, stats=stats, halloffame=hof, verbose=False)\n",
        "\n",
        "    # print best individual info:\n",
        "    best = hof.items[0]\n",
        "    print(\"-- Best Ever Individual = \", best)\n",
        "    print(\"-- Best Ever Fitness = \", best.fitness.values[0])\n",
        "\n",
        "    # plot statistics:\n",
        "    minFitnessValues, meanFitnessValues = logbook.select(\"min\", \"avg\")\n",
        "    plt.figure(1)\n",
        "    sns.set_style(\"whitegrid\")\n",
        "    plt.plot(minFitnessValues, color='red')\n",
        "    plt.plot(meanFitnessValues, color='green')\n",
        "    plt.xlabel('Generation')\n",
        "    plt.ylabel('Min / Average Fitness')\n",
        "    plt.title('Min and Average fitness over Generations')\n",
        "\n",
        "    # show both plots:\n",
        "    plt.show()\n",
        "\n",
        "if __name__ == \"__main__\":\n",
        "    main()"
      ]
    }
  ]
}